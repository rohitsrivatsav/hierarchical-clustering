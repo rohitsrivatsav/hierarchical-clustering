{
 "cells": [
  {
   "cell_type": "code",
   "execution_count": 1,
   "metadata": {},
   "outputs": [],
   "source": [
    "import numpy as np\n",
    "import pandas as pd\n",
    "from scipy.spatial.distance import pdist, squareform\n",
    "from scipy.cluster.hierarchy import linkage, dendrogram, fcluster\n",
    "import matplotlib.pyplot as plt\n",
    "from sklearn.preprocessing import StandardScaler"
   ]
  },
  {
   "cell_type": "markdown",
   "metadata": {},
   "source": [
    "# Pdist Function"
   ]
  },
  {
   "cell_type": "code",
   "execution_count": 141,
   "metadata": {},
   "outputs": [],
   "source": [
    "# run this code after importing pdist, look at its output\n",
    "vector = pdist([[1,2],[9,-4],[5,6],[21,8]], metric='euclidean')\n",
    "vectors_list = [[1,2],[9,-4],[5,6],[21,8]]\n",
    "\n",
    "# now, make your own function\n",
    "def my_pdist(vectors, metric='euclidean'):\n",
    "    vectors = np.array(vectors)\n",
    "    l = len(vectors)\n",
    "    start = 0\n",
    "    dist = []\n",
    "    for x in range(l-1):\n",
    "        start = start + 1\n",
    "        for y in range(start,l):\n",
    "            dist.append(((vectors[x] - vectors[y]) **2).sum() ** 0.5) \n",
    "    return dist"
   ]
  },
  {
   "cell_type": "code",
   "execution_count": 154,
   "metadata": {},
   "outputs": [
    {
     "data": {
      "text/plain": [
       "(array([10.        ,  5.65685425, 20.88061302, 10.77032961, 16.97056275,\n",
       "        16.1245155 ]),\n",
       " [10.0,\n",
       "  5.656854249492381,\n",
       "  20.8806130178211,\n",
       "  10.770329614269007,\n",
       "  16.97056274847714,\n",
       "  16.1245154965971])"
      ]
     },
     "execution_count": 154,
     "metadata": {},
     "output_type": "execute_result"
    }
   ],
   "source": [
    "vector,my_pdist(vectors_list)"
   ]
  },
  {
   "cell_type": "markdown",
   "metadata": {},
   "source": [
    "# SquareForm Function"
   ]
  },
  {
   "cell_type": "code",
   "execution_count": 453,
   "metadata": {},
   "outputs": [],
   "source": [
    "# run this code after importing squareform, look at its output\n",
    "matrix = squareform(vector)\n",
    "\n",
    "# now, make your own function\n",
    "def my_squareform(vector):\n",
    "    zero_matrix = np.zeros((4,4))\n",
    "    n = zero_matrix.shape[0]\n",
    "    start = end = i = 0\n",
    "    p = 1\n",
    "    for x in range(n-1,0,-1):\n",
    "        end += x\n",
    "        s = vector[start:end]\n",
    "        start = end\n",
    "        point = 0\n",
    "        for y in range(p,len(s)+p):\n",
    "            zero_matrix[i][y] = s[point]\n",
    "            zero_matrix[y][i] = s[point]\n",
    "            point = point + 1\n",
    "        i = i + 1\n",
    "        p = p + 1\n",
    "    return zero_matrix    "
   ]
  },
  {
   "cell_type": "code",
   "execution_count": 454,
   "metadata": {},
   "outputs": [
    {
     "data": {
      "text/plain": [
       "(array([[ 0.        , 10.        ,  5.65685425, 20.88061302],\n",
       "        [10.        ,  0.        , 10.77032961, 16.97056275],\n",
       "        [ 5.65685425, 10.77032961,  0.        , 16.1245155 ],\n",
       "        [20.88061302, 16.97056275, 16.1245155 ,  0.        ]]),\n",
       " array([[ 0.        , 10.        ,  5.65685425, 20.88061302],\n",
       "        [10.        ,  0.        , 10.77032961, 16.97056275],\n",
       "        [ 5.65685425, 10.77032961,  0.        , 16.1245155 ],\n",
       "        [20.88061302, 16.97056275, 16.1245155 ,  0.        ]]))"
      ]
     },
     "execution_count": 454,
     "metadata": {},
     "output_type": "execute_result"
    }
   ],
   "source": [
    "matrix,my_squareform(vector)"
   ]
  },
  {
   "cell_type": "markdown",
   "metadata": {},
   "source": [
    "# Linkage Function"
   ]
  },
  {
   "cell_type": "code",
   "execution_count": 449,
   "metadata": {},
   "outputs": [
    {
     "name": "stderr",
     "output_type": "stream",
     "text": [
      "/usr/local/lib/python3.7/site-packages/ipykernel_launcher.py:2: ClusterWarning: scipy.cluster: The symmetric non-negative hollow observation matrix looks suspiciously like an uncondensed distance matrix\n",
      "  \n"
     ]
    }
   ],
   "source": [
    "# run the line below after importing linkage, look at its output\n",
    "linkage(matrix, method='single', metric='euclidean')\n",
    "\n",
    "# now, make your own function\n",
    "def my_linkage(arguments):\n",
    "  pass"
   ]
  },
  {
   "cell_type": "code",
   "execution_count": 456,
   "metadata": {},
   "outputs": [
    {
     "name": "stderr",
     "output_type": "stream",
     "text": [
      "/usr/local/lib/python3.7/site-packages/ipykernel_launcher.py:1: ClusterWarning: scipy.cluster: The symmetric non-negative hollow observation matrix looks suspiciously like an uncondensed distance matrix\n",
      "  \"\"\"Entry point for launching an IPython kernel.\n"
     ]
    },
    {
     "data": {
      "text/plain": [
       "(array([[ 0.        ,  2.        ,  9.33883672,  2.        ],\n",
       "        [ 1.        ,  4.        , 15.53821494,  3.        ],\n",
       "        [ 3.        ,  5.        , 26.88968289,  4.        ]]),\n",
       " array([[ 0.        , 10.        ,  5.65685425, 20.88061302],\n",
       "        [10.        ,  0.        , 10.77032961, 16.97056275],\n",
       "        [ 5.65685425, 10.77032961,  0.        , 16.1245155 ],\n",
       "        [20.88061302, 16.97056275, 16.1245155 ,  0.        ]]))"
      ]
     },
     "execution_count": 456,
     "metadata": {},
     "output_type": "execute_result"
    }
   ],
   "source": [
    "linkage(matrix, method='single', metric='euclidean'),matrix"
   ]
  },
  {
   "cell_type": "code",
   "execution_count": null,
   "metadata": {},
   "outputs": [],
   "source": [
    "# [[1,2],[9,-4],[5,6],[21,8]]"
   ]
  },
  {
   "cell_type": "code",
   "execution_count": null,
   "metadata": {},
   "outputs": [],
   "source": []
  },
  {
   "cell_type": "code",
   "execution_count": null,
   "metadata": {},
   "outputs": [],
   "source": []
  }
 ],
 "metadata": {
  "kernelspec": {
   "display_name": "Python 3",
   "language": "python",
   "name": "python3"
  },
  "language_info": {
   "codemirror_mode": {
    "name": "ipython",
    "version": 3
   },
   "file_extension": ".py",
   "mimetype": "text/x-python",
   "name": "python",
   "nbconvert_exporter": "python",
   "pygments_lexer": "ipython3",
   "version": "3.7.3"
  }
 },
 "nbformat": 4,
 "nbformat_minor": 2
}
